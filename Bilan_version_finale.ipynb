{
  "cells": [
    {
      "cell_type": "code",
      "execution_count": 1,
      "metadata": {
        "colab": {
          "base_uri": "https://localhost:8080/",
          "height": 1000
        },
        "id": "_gqb39L9u_Zn",
        "outputId": "2dd218b6-89e2-4444-a4f6-ce165654c8a1"
      },
      "outputs": [
        {
          "ename": "FileNotFoundError",
          "evalue": "[WinError 3] Le chemin d’accès spécifié est introuvable: ''",
          "output_type": "error",
          "traceback": [
            "\u001b[1;31m---------------------------------------------------------------------------\u001b[0m",
            "\u001b[1;31mFileNotFoundError\u001b[0m                         Traceback (most recent call last)",
            "\u001b[1;32m<ipython-input-1-efda9652ae89>\u001b[0m in \u001b[0;36m<module>\u001b[1;34m\u001b[0m\n\u001b[0;32m      9\u001b[0m \u001b[1;31m# Récupération des noms des fichiers\u001b[0m\u001b[1;33m\u001b[0m\u001b[1;33m\u001b[0m\u001b[1;33m\u001b[0m\u001b[0m\n\u001b[0;32m     10\u001b[0m \u001b[0mchemin_repertoire\u001b[0m \u001b[1;33m=\u001b[0m \u001b[1;34m''\u001b[0m\u001b[1;33m\u001b[0m\u001b[1;33m\u001b[0m\u001b[0m\n\u001b[1;32m---> 11\u001b[1;33m \u001b[0mnoms_fichiers\u001b[0m \u001b[1;33m=\u001b[0m \u001b[0mos\u001b[0m\u001b[1;33m.\u001b[0m\u001b[0mlistdir\u001b[0m\u001b[1;33m(\u001b[0m\u001b[0mchemin_repertoire\u001b[0m\u001b[1;33m)\u001b[0m\u001b[1;33m\u001b[0m\u001b[1;33m\u001b[0m\u001b[0m\n\u001b[0m\u001b[0;32m     12\u001b[0m \u001b[0mfile_names\u001b[0m\u001b[1;33m=\u001b[0m \u001b[1;33m[\u001b[0m\u001b[0mfichier\u001b[0m \u001b[1;32mfor\u001b[0m \u001b[0mfichier\u001b[0m \u001b[1;32min\u001b[0m \u001b[0mnoms_fichiers\u001b[0m \u001b[1;32mif\u001b[0m \u001b[0mfichier\u001b[0m\u001b[1;33m.\u001b[0m\u001b[0mendswith\u001b[0m\u001b[1;33m(\u001b[0m\u001b[1;34m'.json'\u001b[0m\u001b[1;33m)\u001b[0m\u001b[1;33m]\u001b[0m\u001b[1;33m\u001b[0m\u001b[1;33m\u001b[0m\u001b[0m\n\u001b[0;32m     13\u001b[0m \u001b[0mfile_names\u001b[0m\u001b[1;33m.\u001b[0m\u001b[0msort\u001b[0m\u001b[1;33m(\u001b[0m\u001b[1;33m)\u001b[0m\u001b[1;33m\u001b[0m\u001b[1;33m\u001b[0m\u001b[0m\n",
            "\u001b[1;31mFileNotFoundError\u001b[0m: [WinError 3] Le chemin d’accès spécifié est introuvable: ''"
          ]
        }
      ],
      "source": [
        "from stats_moyenne import histogramme_moyen as hm \n",
        "from IPython.core.display import display, HTML\n",
        "from pourcentage_moyen import pourcetage_moyen_contenu as pmc\n",
        "from periodicity import periodicity_average \n",
        "import time\n",
        "import matplotlib.pyplot as plt\n",
        "import os \n",
        "\n",
        "# Récupération des noms des fichiers\n",
        "chemin_repertoire = '/content'\n",
        "noms_fichiers = os.listdir(chemin_repertoire)\n",
        "file_names= [fichier for fichier in noms_fichiers if fichier.endswith('.json')]\n",
        "file_names.sort()\n",
        "# file_names= ['coach_session3.json','coach_Session2.json','coach_session1.json','S1_nonParam.json','S2_nonParam.json','S3_nonParam.json','S4_nonParam.json']\n",
        "variables=['mod','matière_nom','type','diff_relatif']\n",
        "nom_variables = {'diff_relatif': \"Difficullté relative à l'élève\", 'mod':\"Mode\", 'matière_nom':\"Matière\", 'type': \"Type d'exercice\"}\n",
        "display(HTML('🟢🟢🟢🟢🟢🟢🟢🟢🟢🟢🟢🟢🟢🟢🟢🟢🟢🟢🟢🟢🟢🟢🟢🟢🟢🟢🟢🟢🟢🟢🟢🟢🟢🟢🟢🟢🟢🟢<h1>Bilan de Contenu </h1>'))\n",
        "pmc(file_names)\n",
        "plt.show()\n",
        "print('\\n \\n \\n')\n",
        "display(HTML('🟢🟢🟢🟢🟢🟢🟢🟢🟢🟢🟢🟢🟢🟢🟢🟢🟢🟢🟢🟢🟢🟢🟢🟢🟢🟢🟢🟢🟢🟢🟢🟢🟢🟢🟢🟢🟢🟢<h1>Bilan des Variables </h1>'))\n",
        "for var in variables: \n",
        "  print('\\n ')\n",
        "  display(HTML('🟢🟢🟢🟢🟢🟢🟢🟢🟢🟢🟢🟢🟢🟢🟢🟢🟢🟢🟢🟢🟢🟢🟢🟢🟢🟢🟢🟢🟢🟢🟢🟢🟢🟢🟢🟢🟢🟢 <h2> '+nom_variables[var] +'</h2>'))\n",
        "  print('\\n')\n",
        "  print('\\n \\n ')\n",
        "  hm(file_names,var)\n",
        "\n",
        "print('\\n \\n \\n')\n",
        "display(HTML('🟢🟢🟢🟢🟢🟢🟢🟢🟢🟢🟢🟢🟢🟢🟢🟢🟢🟢🟢🟢🟢🟢🟢🟢🟢🟢🟢🟢🟢🟢🟢🟢🟢🟢🟢🟢🟢🟢<h1> Bilan de Périodicité des changements Matière/Notion/Mode</h1>'))\n",
        "\n",
        "x=periodicity_average(file_names)\n",
        "print(x, ' \\n🔻🔻🔻🔻🔻🔻🔻🔻🔻🔻🔻🔻🔻🔻🔻🔻🔻🔻🔻🔻🔻🔻🔻🔻🔻🔻🔻🔻🔻🔻🔻🔻🔻')\n",
        "print('\\n \\n \\n \\n ')\n"
      ]
    }
  ],
  "metadata": {
    "colab": {
      "provenance": []
    },
    "kernelspec": {
      "display_name": "Python 3",
      "name": "python3"
    },
    "language_info": {
      "codemirror_mode": {
        "name": "ipython",
        "version": 3
      },
      "file_extension": ".py",
      "mimetype": "text/x-python",
      "name": "python",
      "nbconvert_exporter": "python",
      "pygments_lexer": "ipython3",
      "version": "3.8.8"
    }
  },
  "nbformat": 4,
  "nbformat_minor": 0
}
