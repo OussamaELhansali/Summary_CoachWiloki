{
  "cells": [
    {
      "cell_type": "code",
      "execution_count": null,
      "metadata": {},
      "outputs": [],
      "source": [
        "!pip install gitpython"
      ]
    },
    {
      "cell_type": "code",
      "execution_count": null,
      "metadata": {},
      "outputs": [],
      "source": [
        "import git\n",
        "import os\n",
        "git.Repo.clone_from('https://github.com/OussamaELhansali/Summary_CoachWiloki.git', 'github1_repo')\n",
        "os.chdir('/content/github1_repo')"
      ]
    },
    {
      "cell_type": "code",
      "execution_count": 1,
      "metadata": {
        "colab": {
          "base_uri": "https://localhost:8080/",
          "height": 1000
        },
        "id": "_gqb39L9u_Zn",
        "outputId": "2dd218b6-89e2-4444-a4f6-ce165654c8a1"
      },
      "outputs": [
        {
          "data": {
            "text/html": [
              "🔻🔻🔻🔻🔻🔻🔻🔻🔻🔻🔻🔻🔻🔻🔻🔻🔻🔻🔻🔻🔻🔻🔻🔻🔻🔻🔻🔻🔻🔻🔻<h1 style=\"color: cyan;\">Périodicité moyenne</h1>"
            ],
            "text/plain": [
              "<IPython.core.display.HTML object>"
            ]
          },
          "metadata": {},
          "output_type": "display_data"
        },
        {
          "name": "stdout",
          "output_type": "stream",
          "text": [
            "                             mean  std\n",
            "nombre de questions moyen       6    3\n",
            "changement de matière moyen     2    0\n",
            "changement de notion moyen      2    1\n",
            "\n",
            " \n",
            " \n",
            "\n"
          ]
        },
        {
          "data": {
            "text/html": [
              "🟢🟢🟢🟢🟢🟢🟢🟢🟢🟢🟢🟢🟢🟢🟢🟢🟢🟢🟢🟢🟢🟢🟢🟢🟢🟢🟢🟢🟢🟢🟢🟢🟢🟢🟢🟢🟢🟢<h1> Bilan de Périodicité des changements Matière/Notion/Mode</h1>"
            ],
            "text/plain": [
              "<IPython.core.display.HTML object>"
            ]
          },
          "metadata": {},
          "output_type": "display_data"
        },
        {
          "data": {
            "text/html": [
              "<h2>Session 1</h2>⬇️⬇️⬇️⬇️⬇️⬇️⬇️⬇️⬇️⬇️⬇️⬇️⬇️⬇️⬇️⬇️⬇️⬇️⬇️⬇️⬇️⬇️⬇️⬇️⬇️⬇️⬇️⬇️⬇️⬇️⬇️⬇️"
            ],
            "text/plain": [
              "<IPython.core.display.HTML object>"
            ]
          },
          "metadata": {},
          "output_type": "display_data"
        },
        {
          "name": "stdout",
          "output_type": "stream",
          "text": [
            "le nombre de questions avant chaque changement de matière : ['2r', '7r', '2w', '4w', '1c', '3c', '1c', '1c', '1c', '3w', '6w', '3w', '1c', '1c', '6c', '6w', '2r', '2r', '11r', '1w', '2c', '1c', '2c', '1c', '5c', '10w', '1r', '1r', '6r', '1w', '4w', '4r', '6r', '6w', '4r', '1r', '1c', '2c', '1c', '2c', '1c', '1r', '16r', '3c', '1c', '3c', '4r', '5r', '11w', '7w', '2w', '1c', '1c', '1c', '1c', '1c', '4c']\n",
            "le nombre de questions moyen avant changement de matière est : 3\n",
            "l'ecart type du nombre de questions avant changement de notion est : 3\n",
            "################################################################################\n",
            "le nombre de questions avant chaque changement de notion : [2 6 1 1 1 2 1 1 1 1 1 1 1 1 1 1 1 1 6 1 1 1 1 1 6 6 1 1 1 1 5 6 1 1 1 1 1\n",
            " 1 1 5 6 4 1 1 6 1 4 4 4 2 6 4 1 1 1 1 1 1 1 1 1 4 4 6 1 1 1 1 1 1 3 4 5 1\n",
            " 6 4 2 5 1 1 1 1 1 1 1 1 3]\n",
            "le nombre de questions moyen avant changement de notion est : 2\n",
            "l'ecart type du nombre de questions avant changement de notion est : 2\n",
            "################################################################################\n",
            "le nombre de questions avant chaque changement de mode  : ['4r', '10w', '8c', '10w', '6c', '10w', '6r', '10w', '8c', '10w', '6r', '10w', '6r', '8w', '7r', '7c', '8r', '9w', '6c', '7r', '8w', '6r', '9w', '7c']\n",
            "le nombre de questions moyen avant changement de mode est : 8\n",
            "l'ecart type du nombre de questions avant changement de mode est : 2\n",
            "################################################################################\n"
          ]
        },
        {
          "data": {
            "text/html": [
              "<h2>Session 2</h2>⬇️⬇️⬇️⬇️⬇️⬇️⬇️⬇️⬇️⬇️⬇️⬇️⬇️⬇️⬇️⬇️⬇️⬇️⬇️⬇️⬇️⬇️⬇️⬇️⬇️⬇️⬇️⬇️⬇️⬇️⬇️⬇️"
            ],
            "text/plain": [
              "<IPython.core.display.HTML object>"
            ]
          },
          "metadata": {},
          "output_type": "display_data"
        },
        {
          "name": "stdout",
          "output_type": "stream",
          "text": [
            "le nombre de questions avant chaque changement de matière : ['3r', '1r', '2r', '8r', '2w', '1w', '1w', '1c', '1c', '1c', '1c', '1c', '2c', '2c', '1r', '5r', '1c', '1c', '1c', '1c', '1c', '4c', '7w', '4w', '3r', '11r', '1w', '1c', '1c', '1c', '1c', '1c', '1c', '1c', '1c', '15r', '2w', '1c', '2c', '1c', '1c', '5c', '1r', '13r', '1w', '3c', '4c', '6r', '1c', '2c', '1c', '1c', '1c', '6c', '1r', '1r', '13r', '3r', '1r', '1c', '3c', '2c', '1c', '17c']\n",
            "le nombre de questions moyen avant changement de matière est : 3\n",
            "l'ecart type du nombre de questions avant changement de notion est : 4\n",
            "################################################################################\n",
            "le nombre de questions avant chaque changement de notion : [2 1 1 1 1 4 4 1 1 1 1 1 1 1 1 1 1 1 1 1 1 4 1 1 1 1 1 1 4 6 1 4 1 1 1 5 6\n",
            " 1 1 1 1 1 1 1 1 1 1 1 1 1 5 6 1 1 1 1 1 1 1 1 4 1 1 1 5 6 1 1 1 1 1 3 2 3\n",
            " 1 1 1 1 1 1 1 2 4 1 1 1 6 6 3 1 1 1 1 1 1 1 1 1 1 4 5 6]\n",
            "le nombre de questions moyen avant changement de notion est : 2\n",
            "l'ecart type du nombre de questions avant changement de notion est : 2\n",
            "################################################################################\n",
            "le nombre de questions avant chaque changement de mode  : ['8r', '10w', '8c', '7r', '7c', '10w', '8r', '10w', '8c', '6r', '10w', '8c', '8r', '10w', '6c', '7r', '8c', '7r', '10w', '6r', '8c', '7r']\n",
            "le nombre de questions moyen avant changement de mode est : 8\n",
            "l'ecart type du nombre de questions avant changement de mode est : 1\n",
            "################################################################################\n"
          ]
        },
        {
          "data": {
            "text/html": [
              "<h2>Session 3</h2>⬇️⬇️⬇️⬇️⬇️⬇️⬇️⬇️⬇️⬇️⬇️⬇️⬇️⬇️⬇️⬇️⬇️⬇️⬇️⬇️⬇️⬇️⬇️⬇️⬇️⬇️⬇️⬇️⬇️⬇️⬇️⬇️"
            ],
            "text/plain": [
              "<IPython.core.display.HTML object>"
            ]
          },
          "metadata": {},
          "output_type": "display_data"
        },
        {
          "name": "stdout",
          "output_type": "stream",
          "text": [
            "le nombre de questions avant chaque changement de matière : ['2c', '1c', '1c', '4c', '1r', '1r', '1r', '9r', '2w', '2w', '3c', '1c', '2c', '4r', '1r', '5r', '1w', '6w', '4r', '2r', '1r', '2r', '2c', '1c', '4c', '3r', '1r', '1r', '1c', '1c', '1c', '2c', '4c', '1r', '4r', '1r', '1c', '3c', '8c', '3r', '1c', '1c', '1c', '12c', '1w', '1c', '1c', '1c', '1c', '1c', '6c', '6w', '4r', '5r', '5c', '7w', '2c', '1c', '6c', '6w', '2w', '1r']\n",
            "le nombre de questions moyen avant changement de matière est : 3\n",
            "l'ecart type du nombre de questions avant changement de notion est : 2\n",
            "################################################################################\n",
            "le nombre de questions avant chaque changement de notion : [1 1 1 1 4 1 1 1 3 6 2 1 1 1 1 1 1 2 4 1 5 1 6 4 1 1 1 1 1 1 1 1 1 3 1 1 1\n",
            " 1 1 1 1 1 1 1 4 1 4 1 1 1 1 1 4 4 1 1 1 1 1 1 1 5 6 1 1 1 1 1 1 4 2 6 4 1\n",
            " 1 1 1 1 5 6 1 1 1 1 1 4 1 6 1 1 1 3 5 6]\n",
            "le nombre de questions moyen avant changement de notion est : 2\n",
            "l'ecart type du nombre de questions avant changement de notion est : 2\n",
            "################################################################################\n",
            "le nombre de questions avant chaque changement de mode  : ['6c', '7r', '10w', '7c', '6r', '10r', '8w', '6r', '7c', '7r', '8c', '6r', '8c', '7r', '10c', '7w', '9c', '6w', '6r', '10c', '6w', '10c', '7w', '10r']\n",
            "le nombre de questions moyen avant changement de mode est : 8\n",
            "l'ecart type du nombre de questions avant changement de mode est : 2\n",
            "################################################################################\n"
          ]
        },
        {
          "data": {
            "text/html": [
              "🔻🔻🔻🔻🔻🔻🔻🔻🔻🔻🔻🔻🔻🔻🔻🔻🔻🔻🔻🔻🔻🔻🔻🔻🔻🔻🔻🔻🔻🔻🔻<h1 style=\"color: cyan;\">Périodicité moyenne</h1>"
            ],
            "text/plain": [
              "<IPython.core.display.HTML object>"
            ]
          },
          "metadata": {},
          "output_type": "display_data"
        },
        {
          "name": "stdout",
          "output_type": "stream",
          "text": [
            "                             mean  std\n",
            "changement de matière moyen     3    3\n",
            "changement de notion moyen      2    2\n",
            "changement de mode moyen        8    2  \n",
            "🔻🔻🔻🔻🔻🔻🔻🔻🔻🔻🔻🔻🔻🔻🔻🔻🔻🔻🔻🔻🔻🔻🔻🔻🔻🔻🔻🔻🔻🔻🔻🔻🔻\n",
            "\n",
            " \n",
            " \n",
            " \n",
            " \n"
          ]
        },
        {
          "data": {
            "text/html": [
              "🟢🟢🟢🟢🟢🟢🟢🟢🟢🟢🟢🟢🟢🟢🟢🟢🟢🟢🟢🟢🟢🟢🟢🟢🟢🟢🟢🟢🟢🟢🟢🟢🟢🟢🟢🟢🟢🟢<h1> Bilan de Périodicité des changements de contenus par Mode</h1>"
            ],
            "text/plain": [
              "<IPython.core.display.HTML object>"
            ]
          },
          "metadata": {},
          "output_type": "display_data"
        },
        {
          "data": {
            "text/html": [
              "🟢🟢🟢🟢🟢🟢🟢🟢🟢🟢🟢🟢🟢🟢🟢🟢🟢🟢🟢🟢🟢🟢🟢🟢🟢🟢🟢🟢🟢🟢🟢🟢🟢🟢🟢🟢🟢🟢<h1>Periodicité par mode : win </h1>"
            ],
            "text/plain": [
              "<IPython.core.display.HTML object>"
            ]
          },
          "metadata": {},
          "output_type": "display_data"
        },
        {
          "data": {
            "text/html": [
              "🔻🔻🔻🔻🔻🔻🔻🔻🔻🔻🔻🔻🔻🔻🔻🔻🔻🔻🔻🔻🔻🔻🔻🔻🔻🔻🔻🔻🔻🔻🔻<h1 style=\"color: cyan;\">Périodicité moyenne</h1>"
            ],
            "text/plain": [
              "<IPython.core.display.HTML object>"
            ]
          },
          "metadata": {},
          "output_type": "display_data"
        },
        {
          "name": "stdout",
          "output_type": "stream",
          "text": [
            "                             mean  std\n",
            "nombre de questions moyen      10    4\n",
            "changement de matière moyen     5    2\n",
            "changement de notion moyen      3    2  \n",
            "🔻🔻🔻🔻🔻🔻🔻🔻🔻🔻🔻🔻🔻🔻🔻🔻🔻🔻🔻🔻🔻🔻🔻🔻🔻🔻🔻🔻🔻🔻🔻🔻🔻\n"
          ]
        },
        {
          "data": {
            "text/html": [
              "🟢🟢🟢🟢🟢🟢🟢🟢🟢🟢🟢🟢🟢🟢🟢🟢🟢🟢🟢🟢🟢🟢🟢🟢🟢🟢🟢🟢🟢🟢🟢🟢🟢🟢🟢🟢🟢🟢<h1>Periodicité par mode : revis </h1>"
            ],
            "text/plain": [
              "<IPython.core.display.HTML object>"
            ]
          },
          "metadata": {},
          "output_type": "display_data"
        },
        {
          "data": {
            "text/html": [
              "🔻🔻🔻🔻🔻🔻🔻🔻🔻🔻🔻🔻🔻🔻🔻🔻🔻🔻🔻🔻🔻🔻🔻🔻🔻🔻🔻🔻🔻🔻🔻<h1 style=\"color: cyan;\">Périodicité moyenne</h1>"
            ],
            "text/plain": [
              "<IPython.core.display.HTML object>"
            ]
          },
          "metadata": {},
          "output_type": "display_data"
        },
        {
          "name": "stdout",
          "output_type": "stream",
          "text": [
            "                             mean  std\n",
            "nombre de questions moyen       6    3\n",
            "changement de matière moyen     2    0\n",
            "changement de notion moyen      2    1  \n",
            "🔻🔻🔻🔻🔻🔻🔻🔻🔻🔻🔻🔻🔻🔻🔻🔻🔻🔻🔻🔻🔻🔻🔻🔻🔻🔻🔻🔻🔻🔻🔻🔻🔻\n"
          ]
        },
        {
          "data": {
            "text/html": [
              "🟢🟢🟢🟢🟢🟢🟢🟢🟢🟢🟢🟢🟢🟢🟢🟢🟢🟢🟢🟢🟢🟢🟢🟢🟢🟢🟢🟢🟢🟢🟢🟢🟢🟢🟢🟢🟢🟢<h1>Periodicité par mode : cool </h1>"
            ],
            "text/plain": [
              "<IPython.core.display.HTML object>"
            ]
          },
          "metadata": {},
          "output_type": "display_data"
        },
        {
          "data": {
            "text/html": [
              "🔻🔻🔻🔻🔻🔻🔻🔻🔻🔻🔻🔻🔻🔻🔻🔻🔻🔻🔻🔻🔻🔻🔻🔻🔻🔻🔻🔻🔻🔻🔻<h1 style=\"color: cyan;\">Périodicité moyenne</h1>"
            ],
            "text/plain": [
              "<IPython.core.display.HTML object>"
            ]
          },
          "metadata": {},
          "output_type": "display_data"
        },
        {
          "name": "stdout",
          "output_type": "stream",
          "text": [
            "                             mean  std\n",
            "nombre de questions moyen       7    1\n",
            "changement de matière moyen     1    1\n",
            "changement de notion moyen      1    0  \n",
            "🔻🔻🔻🔻🔻🔻🔻🔻🔻🔻🔻🔻🔻🔻🔻🔻🔻🔻🔻🔻🔻🔻🔻🔻🔻🔻🔻🔻🔻🔻🔻🔻🔻\n"
          ]
        }
      ],
      "source": [
        "import os\n",
        "os.chdir('/content/github1_repo')\n",
        "from stats_moyenne import histogramme_moyen as hm \n",
        "from stats_moyenne import histogramme_moyen_moddiff as hm_mod \n",
        "from stats_moyenne import histogramme_moyen_modeType\n",
        "from coach_stat1 import tableau_données\n",
        "from IPython.core.display import display, HTML\n",
        "from pourcentage_moyen import pourcetage_moyen_contenu as pmc\n",
        "from periodicity import periodicity_average, periodicity_average_mode\n",
        "import time\n",
        "import matplotlib.pyplot as plt\n",
        "import os \n",
        "import warnings\n",
        "warnings.filterwarnings(\"ignore\")\n",
        "# Récupération des noms des fichiers\n",
        "chemin_repertoire = '/content/github1_repo'\n",
        "noms_fichiers = os.listdir(chemin_repertoire)\n",
        "file_names= [fichier for fichier in noms_fichiers if fichier.endswith('.json')]\n",
        "file_names.sort()\n",
        "# file_names= ['S12_nonParam.json','S13_nonParam.json','S14_nonParam.json']\n",
        "variables=['mod','matière_nom','type','diff_relatif']\n",
        "nom_variables = {'diff_relatif': \"Difficullté relative à l'élève\", 'mod':\"Mode\", 'matière_nom':\"Matière\", 'type': \"Type d'exercice\"}\n",
        "display(HTML('🟢🟢🟢🟢🟢🟢🟢🟢🟢🟢🟢🟢🟢🟢🟢🟢🟢🟢🟢🟢🟢🟢🟢🟢🟢🟢🟢🟢🟢🟢🟢🟢🟢🟢🟢🟢🟢🟢<h1>Bilan de Contenu </h1>'))\n",
        "pmc(file_names)\n",
        "plt.show()\n",
        "print('\\n \\n \\n')\n",
        "display(HTML('🟢🟢🟢🟢🟢🟢🟢🟢🟢🟢🟢🟢🟢🟢🟢🟢🟢🟢🟢🟢🟢🟢🟢🟢🟢🟢🟢🟢🟢🟢🟢🟢🟢🟢🟢🟢🟢🟢<h1>Bilan des Variables </h1>'))\n",
        "for var in variables: \n",
        "  print('\\n ')\n",
        "  display(HTML('🟢🟢🟢🟢🟢🟢🟢🟢🟢🟢🟢🟢🟢🟢🟢🟢🟢🟢🟢🟢🟢🟢🟢🟢🟢🟢🟢🟢🟢🟢🟢🟢🟢🟢🟢🟢🟢🟢 <h2> '+nom_variables[var] +'</h2>'))\n",
        "  print('\\n')\n",
        "  print('\\n \\n ')\n",
        "  hm(file_names,var)\n",
        "display(HTML('🟢🟢🟢🟢🟢🟢🟢🟢🟢🟢🟢🟢🟢🟢🟢🟢🟢🟢🟢🟢🟢🟢🟢🟢🟢🟢🟢🟢🟢🟢🟢🟢🟢🟢🟢🟢🟢🟢 <h2> Niveau de difficulté/Mode</h2>'))\n",
        "hm_mod(file_names)\n",
        "print('\\n \\n \\n')\n",
        "display(HTML('🟢🟢🟢🟢🟢🟢🟢🟢🟢🟢🟢🟢🟢🟢🟢🟢🟢🟢🟢🟢🟢🟢🟢🟢🟢🟢🟢🟢🟢🟢🟢🟢🟢🟢🟢🟢🟢🟢<h1> Niveau de difficulté selon Mode+Type</h1>'))\n",
        "for mode in [\"win\",\"revis\",\"cool\"]:\n",
        "    display(HTML('🟢🟢🟢🟢🟢🟢🟢🟢🟢🟢🟢🟢🟢🟢🟢🟢🟢🟢🟢🟢🟢🟢🟢🟢🟢🟢🟢🟢🟢🟢🟢🟢🟢🟢🟢🟢🟢🟢<h1>'+ mode + ' </h1>'))\n",
        "    tab_events = []\n",
        "    for file in file_names:\n",
        "        tableau=tableau_données(file)[0]\n",
        "        tab_events.append(tableau[tableau[\"mod\"]==mode])\n",
        "    histogramme_moyen_modeType(tab_events,mode=mode)\n",
        "\n",
        "\n",
        "\n",
        "print('\\n \\n \\n')\n",
        "display(HTML('🟢🟢🟢🟢🟢🟢🟢🟢🟢🟢🟢🟢🟢🟢🟢🟢🟢🟢🟢🟢🟢🟢🟢🟢🟢🟢🟢🟢🟢🟢🟢🟢🟢🟢🟢🟢🟢🟢<h1> Bilan de Périodicité des changements Matière/Notion/Mode</h1>'))\n",
        "\n",
        "x=periodicity_average(file_names)\n",
        "print(x, ' \\n🔻🔻🔻🔻🔻🔻🔻🔻🔻🔻🔻🔻🔻🔻🔻🔻🔻🔻🔻🔻🔻🔻🔻🔻🔻🔻🔻🔻🔻🔻🔻🔻🔻')\n",
        "print('\\n \\n \\n \\n ')\n",
        "display(HTML('🟢🟢🟢🟢🟢🟢🟢🟢🟢🟢🟢🟢🟢🟢🟢🟢🟢🟢🟢🟢🟢🟢🟢🟢🟢🟢🟢🟢🟢🟢🟢🟢🟢🟢🟢🟢🟢🟢<h1> Bilan de Périodicité des changements de contenus par Mode</h1>'))\n",
        "for mode in [\"win\",\"revis\",\"cool\"]:\n",
        "   display(HTML('🟢🟢🟢🟢🟢🟢🟢🟢🟢🟢🟢🟢🟢🟢🟢🟢🟢🟢🟢🟢🟢🟢🟢🟢🟢🟢🟢🟢🟢🟢🟢🟢🟢🟢🟢🟢🟢🟢<h1>Periodicité par mode : '+ mode + ' </h1>'))\n",
        "   x=periodicity_average_mode(file_names,mode)\n",
        "   print(x, ' \\n🔻🔻🔻🔻🔻🔻🔻🔻🔻🔻🔻🔻🔻🔻🔻🔻🔻🔻🔻🔻🔻🔻🔻🔻🔻🔻🔻🔻🔻🔻🔻🔻🔻')\n",
        "\n"
      ]
    },
    {
      "cell_type": "code",
      "execution_count": null,
      "metadata": {},
      "outputs": [],
      "source": [
        "!jupyter nbconvert --to html /content/Bilan_version_finale.ipynb"
      ]
    }
  ],
  "metadata": {
    "colab": {
      "provenance": []
    },
    "kernelspec": {
      "display_name": "Python 3",
      "name": "python3"
    },
    "language_info": {
      "codemirror_mode": {
        "name": "ipython",
        "version": 3
      },
      "file_extension": ".py",
      "mimetype": "text/x-python",
      "name": "python",
      "nbconvert_exporter": "python",
      "pygments_lexer": "ipython3",
      "version": "3.8.8"
    }
  },
  "nbformat": 4,
  "nbformat_minor": 0
}
